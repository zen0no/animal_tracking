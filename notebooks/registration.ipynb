{
 "nbformat": 4,
 "nbformat_minor": 0,
 "metadata": {
  "colab": {
   "provenance": []
  },
  "kernelspec": {
   "name": "python3",
   "display_name": "Python 3"
  },
  "language_info": {
   "name": "python"
  }
 },
 "cells": [
  {
   "cell_type": "code",
   "source": [
    "import pandas as pd"
   ],
   "metadata": {
    "id": "wJbkz-k-4oEz"
   },
   "execution_count": 1,
   "outputs": []
  },
  {
   "cell_type": "code",
   "source": [
    "TRESHOLD = 30 * 60\n",
    "\n",
    "df = pd.read_csv('./registration.csv')\n",
    "df = df.convert_dtypes()\n",
    "df.head()\n",
    "\n",
    "\n",
    "def convert_to_seconds(dataframe):\n",
    "  dataframe['date_registration'] = pd.to_datetime(dataframe['date_registration'])\n",
    "  dataframe['sec_registration'] = (((dataframe['date_registration'].dt.month * 12 +\n",
    "                                     dataframe['date_registration'].dt.day) * 24 +\n",
    "                                     dataframe['date_registration'].dt.hour) * 60 \\\n",
    "                                    + dataframe['date_registration'].dt.minute) * 60 \\\n",
    "                                    + dataframe['date_registration'].dt.second\n",
    "\n",
    "def get_registration(data, ind):\n",
    "  end, max_count = ind, 0\n",
    "  for i in data.index[ind : data.shape[0]]:\n",
    "    if data.loc[i, 'sec_registration'] - data.loc[ind, 'sec_registration'] > TRESHOLD:\n",
    "      break\n",
    "    elif data.loc[i, 'class_predict'] == data.loc[ind, 'class_predict']:\n",
    "      end = i\n",
    "      max_count = max(max_count, data.loc[i, 'count'])\n",
    "      data.loc[i, 'count'] = 0\n",
    "\n",
    "  return {'class': data.loc[ind, 'class_predict'],\n",
    "          'start': data.loc[ind, 'date_registration'],\n",
    "          'end': data.loc[end, 'date_registration'], 'max_count': max_count}\n",
    "\n",
    "def handle(cam):\n",
    "  folder_regs = pd.DataFrame(columns=['class', 'start', 'end', 'max_count'])\n",
    "  while cam['count'].sum() > 0:\n",
    "    ind = cam.index[cam['count'] > 0].tolist()[0]\n",
    "    new_reg = get_registration(cam, ind)\n",
    "\n",
    "    if new_reg is not None:\n",
    "      folder_regs = pd.concat([folder_regs, pd.Series(new_reg).to_frame().T], ignore_index=True)\n",
    "  return folder_regs\n",
    "\n",
    "overall_regs = pd.DataFrame(columns=['folder_name', 'class', 'start', 'end', 'max_count'])\n",
    "\n",
    "for name_folder in df['name_folder'].unique():\n",
    "  cam_data = df[df['name_folder'] == name_folder][['class_predict', 'date_registration', 'count']]\n",
    "  convert_to_seconds(cam_data)\n",
    "  cam_data = cam_data.sort_values(by='sec_registration').dropna(axis=0).reset_index()\n",
    "  # print(cam_data.head(20))\n",
    "  print(name_folder)\n",
    "  folder_regs = handle(cam_data)\n",
    "  folder_regs = folder_regs.assign(folder_name=pd.Series([None] * folder_regs.shape[0]).values)\n",
    "  folder_regs['folder_name'] = name_folder\n",
    "  overall_regs = pd.concat([overall_regs, folder_regs], ignore_index=True)\n",
    "  # print(overall_regs)\n",
    "  # break\n",
    "overall_regs.to_csv('overall.csv')"
   ],
   "metadata": {
    "colab": {
     "base_uri": "https://localhost:8080/"
    },
    "id": "lOGxpgw_47Za",
    "outputId": "dc21e8e2-8040-4935-cc78-30b1010987f7"
   },
   "execution_count": null,
   "outputs": []
  }
 ]
}
